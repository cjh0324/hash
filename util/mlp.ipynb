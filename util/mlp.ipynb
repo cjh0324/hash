{
 "cells": [
  {
   "cell_type": "code",
   "execution_count": 1,
   "metadata": {},
   "outputs": [],
   "source": [
    "import torch\n",
    "import torch.nn as nn\n",
    "from torch import optim\n",
    "import torch.nn.functional as F\n",
    "from torch.utils.data import Dataset, DataLoader, SubsetRandomSampler\n",
    "import pandas as pd\n",
    "import random\n",
    "from tqdm import tqdm\n",
    "import matplotlib.pyplot as plt\n",
    "import numpy as np"
   ]
  },
  {
   "cell_type": "code",
   "execution_count": 2,
   "metadata": {},
   "outputs": [],
   "source": [
    "class Net(nn.Module):\n",
    "    def __init__(self):\n",
    "        super(Net, self).__init__()\n",
    "        self.fc1 = nn.Linear(28, 128)\n",
    "        self.fc2 = nn.Linear(128, 128)\n",
    "        self.fc3 = nn.Linear(128, 64)\n",
    "        self.fc4 = nn.Linear(64, 20)\n",
    "        self.fc5 = nn.Linear(20, 18)\n",
    "\n",
    "    def forward(self, x):\n",
    "        # print(\"type x\", type(x))\n",
    "        # x = self.fc1(x)\n",
    "        # x = F.relu(x)\n",
    "        # x = self.fc2(x)\n",
    "        # x = F.relu(x)\n",
    "        x = self.fc1(x)\n",
    "        x = F.relu(x)\n",
    "        x = self.fc2(x)\n",
    "        x = F.relu(x)\n",
    "        x = self.fc3(x)\n",
    "        x = F.relu(x)\n",
    "        x = self.fc4(x)\n",
    "        x = F.relu(x)\n",
    "        x = self.fc5(x)\n",
    "        return x"
   ]
  },
  {
   "cell_type": "code",
   "execution_count": 3,
   "metadata": {},
   "outputs": [],
   "source": [
    "class CustomDataset(Dataset):\n",
    "    def __init__(self, file_path):\n",
    "        df = pd.read_csv(file_path)\n",
    "        self.x = df.iloc[:,0].values\n",
    "        self.y = df.iloc[:,1].values\n",
    "        # self.a = df.iloc[:, 0].values\n",
    "        # self.b = df.iloc[:, 1].values\n",
    "        # self.c = df.iloc[:, 2].values\n",
    "        # self.y = df.iloc[:, 3].values\n",
    "        # self.y = list(map(self.string_to_vector, self.y))\n",
    "        self.length = len(df)\n",
    "\n",
    "    # def string_to_vector(self, value):\n",
    "    #     data = {\"acute triangle\": 0, \"right triangle\":1, \"obtuse triangle\": 2}\n",
    "    #     return data.get(value, None)\n",
    "\n",
    "    def __getitem__(self, index):\n",
    "        x = self.x[index]\n",
    "        # x = list(str(x))[:-6]\n",
    "        # x = list(map(int, x))\n",
    "        # while(len(x)<8):\n",
    "        #     x.insert(0, 0)\n",
    "        x = list(x)[:-6]\n",
    "        x = list(map(int, x))\n",
    "        x = torch.FloatTensor(x)\n",
    "        # x = torch.FloatTensor(sorted([self.a[index], self.b[index], self.c[index]]))\n",
    "        y = torch.LongTensor(self.y)[index]\n",
    "        # print(x, y)\n",
    "        return x, y\n",
    "\n",
    "    def __len__(self):\n",
    "        return self.length"
   ]
  },
  {
   "cell_type": "code",
   "execution_count": 4,
   "metadata": {},
   "outputs": [
    {
     "name": "stdout",
     "output_type": "stream",
     "text": [
      "Net(\n",
      "  (fc1): Linear(in_features=28, out_features=124, bias=True)\n",
      "  (fc2): Linear(in_features=124, out_features=64, bias=True)\n",
      "  (fc3): Linear(in_features=64, out_features=20, bias=True)\n",
      "  (fc4): Linear(in_features=20, out_features=18, bias=True)\n",
      ")\n"
     ]
    }
   ],
   "source": [
    "# train_dataset = CustomDataset(\"txt/data2.csv\")\n",
    "full_dataset = CustomDataset(\"txt/single_llc_set_false.csv\")\n",
    "# full_dataset = CustomDataset(\"/content/drive/MyDrive/학부/4학년 2학기/hash/txt/data.csv\")\n",
    "train_size = int(0.8 * len(full_dataset))\n",
    "test_size = len(full_dataset) - train_size\n",
    "train_dataset, test_dataset = torch.utils.data.random_split(full_dataset, [train_size, test_size])\n",
    "\n",
    "train_dataloader = DataLoader(train_dataset, batch_size=32, shuffle=True, drop_last=True)\n",
    "test_dataloader = DataLoader(test_dataset, batch_size=1)\n",
    "\n",
    "device = 'cuda' if torch.cuda.is_available() else 'cpu'\n",
    "model = Net().to(device)\n",
    "print(model)"
   ]
  },
  {
   "cell_type": "code",
   "execution_count": 5,
   "metadata": {},
   "outputs": [],
   "source": [
    "criterion = nn.CrossEntropyLoss()\n",
    "optimizer = optim.SGD(model.parameters(), lr=0.01)"
   ]
  },
  {
   "cell_type": "code",
   "execution_count": null,
   "metadata": {},
   "outputs": [],
   "source": [
    "losses = []\n",
    "\n",
    "# indices = torch.randperm(len(train_dataset))[:64768]\n",
    "# sampler = SubsetRandomSampler(indices)\n",
    "# train_dataloader = DataLoader(train_dataset, batch_size=32, shuffle=False, drop_last=True, sampler=sampler)\n",
    "\n",
    "for epoch in range(10000):\n",
    "    cost = 0.0\n",
    "\n",
    "    # indices = torch.randperm(len(train_dataset))[:129536]\n",
    "    # sampler = SubsetRandomSampler(indices)\n",
    "    # train_dataloader = DataLoader(train_dataset, batch_size=32, shuffle=False, drop_last=True, sampler=sampler)\n",
    "\n",
    "    # for i, batch in enumerate(tqdm(train_dataloader)):\n",
    "    for x, y in train_dataloader:\n",
    "        # x = batch[0].to(device)\n",
    "        # y = batch[1].to(device)\n",
    "        x = x.to(device)\n",
    "        y = y.to(device)\n",
    "        optimizer.zero_grad()\n",
    "        \n",
    "        output = model(x)\n",
    "\n",
    "        loss = criterion(output, y)\n",
    "        print(output, y)\n",
    "\n",
    "        loss.backward()\n",
    "        optimizer.step()\n",
    "\n",
    "        cost += loss\n",
    "\n",
    "        print(f\"Epoch : {epoch+1:4d}, Loss : {loss:.3f}\")\n",
    "\n",
    "    cost = cost / len(train_dataloader)\n",
    "    losses.append(cost)\n",
    "\n",
    "    if (epoch + 1) % 10 == 0:\n",
    "        print(f\"Epoch : {epoch+1:4d}, Cost : {cost:.3f}\")"
   ]
  },
  {
   "cell_type": "code",
   "execution_count": 7,
   "metadata": {},
   "outputs": [
    {
     "data": {
      "image/png": "[encoded data removed]",
      "text/plain": [
       "<Figure size 432x288 with 1 Axes>"
      ]
     },
     "metadata": {
      "needs_background": "light"
     },
     "output_type": "display_data"
    },
    {
     "name": "stderr",
     "output_type": "stream",
     "text": [
      "100%|█████████████████████████████████████████████████████████████████████████████████████████████████████████████████████████████████████████████████████████████████████████████████████████████████████████████████████████████████████████████████████████████| 100000/100000 [00:46<00:00, 2132.23it/s]"
     ]
    },
    {
     "name": "stdout",
     "output_type": "stream",
     "text": [
      "--------------\n",
      "Accuracy:  99.449\n"
     ]
    },
    {
     "name": "stderr",
     "output_type": "stream",
     "text": [
      "\n"
     ]
    }
   ],
   "source": [
    "losses_int = [ts.item() for ts in losses]\n",
    "plt.plot(losses_int, 'r')\n",
    "plt.xlabel('epoch')\n",
    "plt.ylabel('loss')\n",
    "plt.title('Intel Core i7 7500U')\n",
    "plt.show()\n",
    "\n",
    "indices = torch.randperm(len(test_dataset))[:100000]\n",
    "sampler = SubsetRandomSampler(indices)\n",
    "test_dataloader = DataLoader(test_dataset, batch_size=1, shuffle=False, drop_last=True, sampler=sampler)\n",
    "\n",
    "# GET OUTPUT\n",
    "with torch.no_grad():\n",
    "    model.eval()\n",
    "    \n",
    "    total = 0\n",
    "    correct = 0\n",
    "\n",
    "    for i, batch in enumerate(tqdm(test_dataloader)):\n",
    "        x = batch[0].to(device)\n",
    "        y = batch[1].to(device)\n",
    "        # x = x.to(device)\n",
    "        # y = y.to(device)\n",
    "        output = model(x)\n",
    "        y_pred = torch.argmax(output, dim=1).to(device)\n",
    "        total += 1\n",
    "        # print(x, y, y_pred)\n",
    "        if (y == y_pred): \n",
    "            correct += 1\n",
    "\n",
    "print('--------------')\n",
    "print('Accuracy: ', correct / total * 100)"
   ]
  }
 ],
 "metadata": {
  "kernelspec": {
   "display_name": "Python 3 (ipykernel)",
   "language": "python",
   "name": "python3"
  },
  "language_info": {
   "codemirror_mode": {
    "name": "ipython",
    "version": 3
   },
   "file_extension": ".py",
   "mimetype": "text/x-python",
   "name": "python",
   "nbconvert_exporter": "python",
   "pygments_lexer": "ipython3",
   "version": "3.9.12"
  },
  "orig_nbformat": 4,
  "vscode": {
   "interpreter": {
    "hash": "a077222d77dfe082b8f1dd562ad70e458ac2ab76993a0b248ab0476e32e9e8dd"
   }
  }
 },
 "nbformat": 4,
 "nbformat_minor": 2
}

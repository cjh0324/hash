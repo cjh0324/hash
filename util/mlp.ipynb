<<<<<<< HEAD
{"cells":[{"cell_type":"code","execution_count":1,"metadata":{"colab":{"base_uri":"https://localhost:8080/"},"executionInfo":{"elapsed":4159,"status":"ok","timestamp":1668598430781,"user":{"displayName":"­조재훈 / 학생 / 전기·정보공학부","userId":"15939030001572384221"},"user_tz":-540},"id":"k79Ja1mDbYvE","outputId":"d2e90260-db93-4d4b-8278-0be12b76a3ff"},"outputs":[{"output_type":"stream","name":"stdout","text":["Drive already mounted at /content/drive; to attempt to forcibly remount, call drive.mount(\"/content/drive\", force_remount=True).\n"]}],"source":["from google.colab import drive\n","drive.mount('/content/drive')"]},{"cell_type":"code","execution_count":2,"metadata":{"executionInfo":{"elapsed":847,"status":"ok","timestamp":1668598431611,"user":{"displayName":"­조재훈 / 학생 / 전기·정보공학부","userId":"15939030001572384221"},"user_tz":-540},"id":"zWmmGKs7bGuZ"},"outputs":[],"source":["import torch\n","import torch.nn as nn\n","from torch import optim\n","import torch.nn.functional as F\n","from torch.utils.data import Dataset, DataLoader, SubsetRandomSampler\n","import pandas as pd\n","import random\n","from tqdm import tqdm\n","import matplotlib.pyplot as plt\n","import numpy as np"]},{"cell_type":"code","execution_count":8,"metadata":{"executionInfo":{"elapsed":330,"status":"ok","timestamp":1668598939169,"user":{"displayName":"­조재훈 / 학생 / 전기·정보공학부","userId":"15939030001572384221"},"user_tz":-540},"id":"rNQ-L4iRbGue"},"outputs":[],"source":["class Net(nn.Module):\n","    def __init__(self):\n","        super(Net, self).__init__()\n","        self.fc1 = nn.Linear(28, 120)\n","        self.fc2 = nn.Linear(120, 20)\n","        self.fc3 = nn.Linear(20, 18)\n","        # self.fc4 = nn.Linear(12, 2)\n","        # self.fc5 = nn.Linear(32, 28)\n","        # self.fc6 = nn.Linear(28, 24)\n","        # self.fc7 = nn.Linear(24, 18)\n","\n","    def forward(self, x):\n","        # print(\"type x\", type(x))\n","        # x = self.fc1(x)\n","        # x = F.relu(x)\n","        # x = self.fc2(x)\n","        # x = F.relu(x)\n","        x = self.fc1(x)\n","        x = F.relu(x)\n","        x = self.fc2(x)\n","        x = F.relu(x)\n","        x = self.fc3(x)\n","        # x = F.relu(x)\n","        # x = self.fc4(x)\n","        # x = F.relu(x)\n","        # x = self.fc5(x)\n","        # x = F.relu(x)\n","        # x = self.fc6(x)\n","        # x = F.relu(x)\n","        # x = self.fc7(x)\n","        return x"]},{"cell_type":"code","execution_count":9,"metadata":{"executionInfo":{"elapsed":2,"status":"ok","timestamp":1668598940661,"user":{"displayName":"­조재훈 / 학생 / 전기·정보공학부","userId":"15939030001572384221"},"user_tz":-540},"id":"hDnr6ymybGuf"},"outputs":[],"source":["class CustomDataset(Dataset):\n","    def __init__(self, file_path):\n","        df = pd.read_csv(file_path)\n","        self.x = df.iloc[:,0].values\n","        self.y = df.iloc[:,1].values\n","        # self.a = df.iloc[:, 0].values\n","        # self.b = df.iloc[:, 1].values\n","        # self.c = df.iloc[:, 2].values\n","        # self.y = df.iloc[:, 3].values\n","        # self.y = list(map(self.string_to_vector, self.y))\n","        self.length = len(df)\n","\n","    # def string_to_vector(self, value):\n","    #     data = {\"acute triangle\": 0, \"right triangle\":1, \"obtuse triangle\": 2}\n","    #     return data.get(value, None)\n","\n","    def __getitem__(self, index):\n","        x = self.x[index]\n","        # x = list(str(x))[:-6]\n","        # x = list(map(int, x))\n","        # while(len(x)<8):\n","        #     x.insert(0, 0)\n","        x = list(x)[:-6]\n","        x = list(map(int, x))\n","        x = torch.FloatTensor(x)\n","        # x = torch.FloatTensor(sorted([self.a[index], self.b[index], self.c[index]]))\n","        y = torch.LongTensor(self.y)[index]\n","        # print(x, y)\n","        return x, y\n","\n","    def __len__(self):\n","        return self.length"]},{"cell_type":"code","execution_count":10,"metadata":{"colab":{"base_uri":"https://localhost:8080/"},"executionInfo":{"elapsed":13984,"status":"ok","timestamp":1668598955130,"user":{"displayName":"­조재훈 / 학생 / 전기·정보공학부","userId":"15939030001572384221"},"user_tz":-540},"id":"EnlhnihDbGug","outputId":"c7360631-65a4-40e6-bf1d-93ceb67afd09"},"outputs":[{"output_type":"stream","name":"stdout","text":["Net(\n","  (fc1): Linear(in_features=28, out_features=120, bias=True)\n","  (fc2): Linear(in_features=120, out_features=20, bias=True)\n","  (fc3): Linear(in_features=20, out_features=12, bias=True)\n","  (fc4): Linear(in_features=12, out_features=2, bias=True)\n",")\n"]}],"source":["# train_dataset = CustomDataset(\"txt/data2.csv\")\n","# full_dataset = CustomDataset(\"txt/data.csv\")\n","full_dataset = CustomDataset(\"/content/drive/MyDrive/hash/txt/data_Xeon.csv\")\n","train_size = int(0.8 * len(full_dataset))\n","test_size = len(full_dataset) - train_size\n","train_dataset, test_dataset = torch.utils.data.random_split(full_dataset, [train_size, test_size])\n","\n","# train_dataloader = DataLoader(train_dataset, batch_size=32, shuffle=True, drop_last=True)\n","# test_dataloader = DataLoader(test_dataset, batch_size=1)\n","\n","device = 'cuda' if torch.cuda.is_available() else 'cpu'\n","model = Net().to(device)\n","print(model)"]},{"cell_type":"code","execution_count":11,"metadata":{"executionInfo":{"elapsed":19,"status":"ok","timestamp":1668598955131,"user":{"displayName":"­조재훈 / 학생 / 전기·정보공학부","userId":"15939030001572384221"},"user_tz":-540},"id":"nO_lt2w9bGuh"},"outputs":[],"source":["criterion = nn.CrossEntropyLoss().to(device)\n","optimizer = optim.SGD(model.parameters(), lr=0.01)"]},{"cell_type":"code","execution_count":12,"metadata":{"colab":{"base_uri":"https://localhost:8080/","height":910},"executionInfo":{"elapsed":1138694,"status":"error","timestamp":1668600093807,"user":{"displayName":"­조재훈 / 학생 / 전기·정보공학부","userId":"15939030001572384221"},"user_tz":-540},"id":"rbD-I7zzbGui","outputId":"a81974e8-3a09-4493-de42-0f804abfad10"},"outputs":[{"output_type":"stream","name":"stdout","text":["Epoch :   10, Cost : 0.693\n","Epoch :   20, Cost : 0.693\n","Epoch :   30, Cost : 0.693\n","Epoch :   40, Cost : 0.693\n","Epoch :   50, Cost : 0.692\n","Epoch :   60, Cost : 0.692\n","Epoch :   70, Cost : 0.691\n","Epoch :   80, Cost : 0.690\n","Epoch :   90, Cost : 0.688\n","Epoch :  100, Cost : 0.686\n","Epoch :  110, Cost : 0.684\n","Epoch :  120, Cost : 0.680\n","Epoch :  130, Cost : 0.677\n","Epoch :  140, Cost : 0.674\n","Epoch :  150, Cost : 0.668\n","Epoch :  160, Cost : 0.658\n","Epoch :  170, Cost : 0.285\n","Epoch :  180, Cost : 0.256\n","Epoch :  190, Cost : 0.068\n","Epoch :  200, Cost : 0.024\n","Epoch :  210, Cost : 0.020\n","Epoch :  220, Cost : 0.017\n","Epoch :  230, Cost : 0.014\n","Epoch :  240, Cost : 0.011\n","Epoch :  250, Cost : 0.010\n","Epoch :  260, Cost : 0.300\n","Epoch :  270, Cost : 0.089\n"]},{"output_type":"error","ename":"KeyboardInterrupt","evalue":"ignored","traceback":["\u001b[0;31m---------------------------------------------------------------------------\u001b[0m","\u001b[0;31mKeyboardInterrupt\u001b[0m                         Traceback (most recent call last)","\u001b[0;32m<ipython-input-12-c6df55811187>\u001b[0m in \u001b[0;36m<module>\u001b[0;34m\u001b[0m\n\u001b[1;32m     26\u001b[0m         \u001b[0mloss\u001b[0m \u001b[0;34m=\u001b[0m \u001b[0mcriterion\u001b[0m\u001b[0;34m(\u001b[0m\u001b[0moutput\u001b[0m\u001b[0;34m,\u001b[0m \u001b[0my\u001b[0m\u001b[0;34m)\u001b[0m\u001b[0;34m\u001b[0m\u001b[0;34m\u001b[0m\u001b[0m\n\u001b[1;32m     27\u001b[0m \u001b[0;34m\u001b[0m\u001b[0m\n\u001b[0;32m---> 28\u001b[0;31m         \u001b[0mloss\u001b[0m\u001b[0;34m.\u001b[0m\u001b[0mbackward\u001b[0m\u001b[0;34m(\u001b[0m\u001b[0;34m)\u001b[0m\u001b[0;34m\u001b[0m\u001b[0;34m\u001b[0m\u001b[0m\n\u001b[0m\u001b[1;32m     29\u001b[0m         \u001b[0moptimizer\u001b[0m\u001b[0;34m.\u001b[0m\u001b[0mstep\u001b[0m\u001b[0;34m(\u001b[0m\u001b[0;34m)\u001b[0m\u001b[0;34m\u001b[0m\u001b[0;34m\u001b[0m\u001b[0m\n\u001b[1;32m     30\u001b[0m \u001b[0;34m\u001b[0m\u001b[0m\n","\u001b[0;32m/usr/local/lib/python3.7/dist-packages/torch/_tensor.py\u001b[0m in \u001b[0;36mbackward\u001b[0;34m(self, gradient, retain_graph, create_graph, inputs)\u001b[0m\n\u001b[1;32m    394\u001b[0m                 \u001b[0mcreate_graph\u001b[0m\u001b[0;34m=\u001b[0m\u001b[0mcreate_graph\u001b[0m\u001b[0;34m,\u001b[0m\u001b[0;34m\u001b[0m\u001b[0;34m\u001b[0m\u001b[0m\n\u001b[1;32m    395\u001b[0m                 inputs=inputs)\n\u001b[0;32m--> 396\u001b[0;31m         \u001b[0mtorch\u001b[0m\u001b[0;34m.\u001b[0m\u001b[0mautograd\u001b[0m\u001b[0;34m.\u001b[0m\u001b[0mbackward\u001b[0m\u001b[0;34m(\u001b[0m\u001b[0mself\u001b[0m\u001b[0;34m,\u001b[0m \u001b[0mgradient\u001b[0m\u001b[0;34m,\u001b[0m \u001b[0mretain_graph\u001b[0m\u001b[0;34m,\u001b[0m \u001b[0mcreate_graph\u001b[0m\u001b[0;34m,\u001b[0m \u001b[0minputs\u001b[0m\u001b[0;34m=\u001b[0m\u001b[0minputs\u001b[0m\u001b[0;34m)\u001b[0m\u001b[0;34m\u001b[0m\u001b[0;34m\u001b[0m\u001b[0m\n\u001b[0m\u001b[1;32m    397\u001b[0m \u001b[0;34m\u001b[0m\u001b[0m\n\u001b[1;32m    398\u001b[0m     \u001b[0;32mdef\u001b[0m \u001b[0mregister_hook\u001b[0m\u001b[0;34m(\u001b[0m\u001b[0mself\u001b[0m\u001b[0;34m,\u001b[0m \u001b[0mhook\u001b[0m\u001b[0;34m)\u001b[0m\u001b[0;34m:\u001b[0m\u001b[0;34m\u001b[0m\u001b[0;34m\u001b[0m\u001b[0m\n","\u001b[0;32m/usr/local/lib/python3.7/dist-packages/torch/autograd/__init__.py\u001b[0m in \u001b[0;36mbackward\u001b[0;34m(tensors, grad_tensors, retain_graph, create_graph, grad_variables, inputs)\u001b[0m\n\u001b[1;32m    173\u001b[0m     Variable._execution_engine.run_backward(  # Calls into the C++ engine to run the backward pass\n\u001b[1;32m    174\u001b[0m         \u001b[0mtensors\u001b[0m\u001b[0;34m,\u001b[0m \u001b[0mgrad_tensors_\u001b[0m\u001b[0;34m,\u001b[0m \u001b[0mretain_graph\u001b[0m\u001b[0;34m,\u001b[0m \u001b[0mcreate_graph\u001b[0m\u001b[0;34m,\u001b[0m \u001b[0minputs\u001b[0m\u001b[0;34m,\u001b[0m\u001b[0;34m\u001b[0m\u001b[0;34m\u001b[0m\u001b[0m\n\u001b[0;32m--> 175\u001b[0;31m         allow_unreachable=True, accumulate_grad=True)  # Calls into the C++ engine to run the backward pass\n\u001b[0m\u001b[1;32m    176\u001b[0m \u001b[0;34m\u001b[0m\u001b[0m\n\u001b[1;32m    177\u001b[0m def grad(\n","\u001b[0;31mKeyboardInterrupt\u001b[0m: "]}],"source":["losses = []\n","\n","indices = torch.randperm(len(train_dataset))[:65536]\n","sampler = SubsetRandomSampler(indices)\n","train_dataloader = DataLoader(train_dataset, batch_size=32, shuffle=False, drop_last=True, sampler=sampler)\n","\n","for epoch in range(10000):\n","    cost = 0.0\n","\n","    # indices = torch.randperm(len(train_dataset))[:129536]\n","    # sampler = SubsetRandomSampler(indices)\n","    # train_dataloader = DataLoader(train_dataset, batch_size=32, shuffle=False, drop_last=True, sampler=sampler)\n","\n","    for i, batch in enumerate(tqdm(train_dataloader)):\n","    # for x, y in train_dataloader:\n","        x = batch[0].to(device)\n","        y = batch[1].to(device)\n","        # x = x.to(device)\n","        # y = y.to(device)\n","        optimizer.zero_grad()\n","        # print(x, y)\n","        \n","        output = model(x)\n","        # print(type(output), output.shape, y.shape)\n","        # print(output, y)\n","        loss = criterion(output, y)\n","\n","        loss.backward()\n","        optimizer.step()\n","\n","        cost += loss\n","\n","        # print(f\"Epoch : {epoch+1:4d}, Loss : {loss:.3f}\")\n","\n","    cost = cost / len(train_dataloader)\n","    losses.append(cost)\n","\n","    if (epoch + 1) % 10 == 0:\n","        print(f\"Epoch : {epoch+1:4d}, Cost : {cost:.3f}\")"]},{"cell_type":"code","execution_count":13,"metadata":{"colab":{"base_uri":"https://localhost:8080/","height":351},"executionInfo":{"elapsed":5267,"status":"ok","timestamp":1668600102383,"user":{"displayName":"­조재훈 / 학생 / 전기·정보공학부","userId":"15939030001572384221"},"user_tz":-540},"id":"RxilK42IbGui","outputId":"c6e2f17b-5e27-4dff-94b0-848f96e20c54"},"outputs":[{"output_type":"display_data","data":{"text/plain":["<Figure size 432x288 with 1 Axes>"],"image/png":"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\n"},"metadata":{"needs_background":"light"}},{"output_type":"stream","name":"stderr","text":["100%|██████████| 10000/10000 [00:04<00:00, 2315.96it/s]"]},{"output_type":"stream","name":"stdout","text":["--------------\n","Accuracy:  97.33000000000001\n"]},{"output_type":"stream","name":"stderr","text":["\n"]}],"source":["losses_int = [ts.item() for ts in losses]\n","plt.plot(losses_int, 'b')\n","plt.xlabel('epoch')\n","plt.ylabel('loss')\n","plt.title('Intel Xeon Gold 6136')\n","plt.show()\n","\n","indices = torch.randperm(len(test_dataset))[:10000]\n","sampler = SubsetRandomSampler(indices)\n","test_dataloader = DataLoader(test_dataset, batch_size=1, shuffle=False, drop_last=True, sampler=sampler)\n","\n","# GET OUTPUT\n","with torch.no_grad():\n","    model.eval()\n","    \n","    total = 0\n","    correct = 0\n","\n","    for i, batch in enumerate(tqdm(test_dataloader)):\n","        x = batch[0].to(device)\n","        y = batch[1].to(device)\n","        # x = x.to(device)\n","        # y = y.to(device)\n","        output = model(x)\n","        y_pred = torch.argmax(output, dim=1).to(device)\n","        total += 1\n","        # print(x, y, y_pred)\n","        if (y == y_pred): \n","            correct += 1\n","\n","print('--------------')\n","print('Accuracy: ', correct / total * 100)"]}],"metadata":{"accelerator":"GPU","colab":{"provenance":[]},"gpuClass":"standard","kernelspec":{"display_name":"Python 3.9.7 ('env_dsd')","language":"python","name":"python3"},"language_info":{"codemirror_mode":{"name":"ipython","version":3},"file_extension":".py","mimetype":"text/x-python","name":"python","nbconvert_exporter":"python","pygments_lexer":"ipython3","version":"3.9.7"},"orig_nbformat":4,"vscode":{"interpreter":{"hash":"97866b1e548d07fde22550484f3e439ee26baa030f9218d71433de6d890349c5"}}},"nbformat":4,"nbformat_minor":0}
=======
{
 "cells": [
  {
   "cell_type": "code",
   "execution_count": 1,
   "metadata": {},
   "outputs": [],
   "source": [
    "import torch\n",
    "import torch.nn as nn\n",
    "from torch import optim\n",
    "import torch.nn.functional as F\n",
    "from torch.utils.data import Dataset, DataLoader, SubsetRandomSampler\n",
    "import pandas as pd\n",
    "import random\n",
    "from tqdm import tqdm\n",
    "import matplotlib.pyplot as plt\n",
    "import numpy as np"
   ]
  },
  {
   "cell_type": "code",
   "execution_count": 2,
   "metadata": {},
   "outputs": [],
   "source": [
    "class Net(nn.Module):\n",
    "    def __init__(self):\n",
    "        super(Net, self).__init__()\n",
    "        self.fc1 = nn.Linear(28, 128)\n",
    "        self.fc2 = nn.Linear(128, 128)\n",
    "        self.fc3 = nn.Linear(128, 512)\n",
    "        self.fc4 = nn.Linear(512, 2048)\n",
    "        self.fc5 = nn.Linear(2048, 18)\n",
    "\n",
    "    def forward(self, x):\n",
    "        x = self.fc1(x)\n",
    "        x = F.relu(x)\n",
    "        x = self.fc2(x)\n",
    "        x = F.relu(x)\n",
    "        x = self.fc3(x)\n",
    "        x = F.relu(x)\n",
    "        x = self.fc4(x)\n",
    "        x = F.relu(x)\n",
    "        x = self.fc5(x)\n",
    "        return x"
   ]
  },
  {
   "cell_type": "code",
   "execution_count": 3,
   "metadata": {},
   "outputs": [],
   "source": [
    "class CustomDataset(Dataset):\n",
    "    def __init__(self, file_path):\n",
    "        df = pd.read_csv(file_path)\n",
    "        self.x = df.iloc[:,0].values\n",
    "        self.y = df.iloc[:,1].values\n",
    "        # self.a = df.iloc[:, 0].values\n",
    "        # self.b = df.iloc[:, 1].values\n",
    "        # self.c = df.iloc[:, 2].values\n",
    "        # self.y = df.iloc[:, 3].values\n",
    "        # self.y = list(map(self.string_to_vector, self.y))\n",
    "        self.length = len(df)\n",
    "\n",
    "    def __getitem__(self, index):\n",
    "        x = self.x[index]\n",
    "        # x = list(str(x))[:-6]\n",
    "        # x = list(map(int, x))\n",
    "        # while(len(x)<8):\n",
    "        #     x.insert(0, 0)\n",
    "        x = list(x)[:-6]\n",
    "        x = list(map(int, x))\n",
    "        x = [1 if xi == 1 else -1 for xi in x]\n",
    "        x = torch.FloatTensor(x)\n",
    "        y = torch.LongTensor(self.y)[index]\n",
    "        return x, y\n",
    "\n",
    "    def __len__(self):\n",
    "        return self.length"
   ]
  },
  {
   "cell_type": "code",
   "execution_count": 9,
   "metadata": {},
   "outputs": [
    {
     "name": "stdout",
     "output_type": "stream",
     "text": [
      "Net(\n",
      "  (fc1): Linear(in_features=28, out_features=128, bias=True)\n",
      "  (fc2): Linear(in_features=128, out_features=128, bias=True)\n",
      "  (fc3): Linear(in_features=128, out_features=512, bias=True)\n",
      "  (fc4): Linear(in_features=512, out_features=2048, bias=True)\n",
      "  (fc5): Linear(in_features=2048, out_features=18, bias=True)\n",
      ")\n"
     ]
    }
   ],
   "source": [
    "# train_dataset = CustomDataset(\"txt/data2.csv\")\n",
    "full_dataset = CustomDataset(\"C:/Users/1998b/Google 드라이브/학부/4학년 2학기/hash/txt/data_Xeon.csv\")\n",
    "# full_dataset = CustomDataset(\"/content/drive/MyDrive/학부/4학년 2학기/hash/txt/data.csv\")\n",
    "train_size = int(0.8 * len(full_dataset))\n",
    "test_size = len(full_dataset) - train_size\n",
    "train_dataset, test_dataset = torch.utils.data.random_split(full_dataset, [train_size, test_size])\n",
    "\n",
    "# train_dataloader = DataLoader(train_dataset, batch_size=32, shuffle=True, drop_last=True)\n",
    "# test_dataloader = DataLoader(test_dataset, batch_size=1)\n",
    "\n",
    "device = 'cuda' if torch.cuda.is_available() else 'cpu'\n",
    "model = Net().to(device)\n",
    "print(model)"
   ]
  },
  {
   "cell_type": "code",
   "execution_count": 10,
   "metadata": {},
   "outputs": [],
   "source": [
    "criterion = nn.CrossEntropyLoss()\n",
    "optimizer = optim.SGD(model.parameters(), lr=0.01)"
   ]
  },
  {
   "cell_type": "code",
   "execution_count": 11,
   "metadata": {},
   "outputs": [
    {
     "name": "stdout",
     "output_type": "stream",
     "text": [
      "Epoch :   10, Cost : 2.887\n",
      "Epoch :   20, Cost : 2.884\n",
      "Epoch :   30, Cost : 2.878\n",
      "Epoch :   40, Cost : 2.868\n",
      "Epoch :   50, Cost : 2.851\n",
      "Epoch :   60, Cost : 2.827\n",
      "Epoch :   70, Cost : 2.789\n",
      "Epoch :   80, Cost : 2.729\n",
      "Epoch :   90, Cost : 2.633\n",
      "Epoch :  100, Cost : 2.469\n",
      "Epoch :  110, Cost : 2.183\n",
      "Epoch :  120, Cost : 1.734\n",
      "Epoch :  130, Cost : 1.199\n",
      "Epoch :  140, Cost : 0.752\n",
      "Epoch :  150, Cost : 0.500\n",
      "Epoch :  160, Cost : 0.405\n",
      "Epoch :  170, Cost : 0.344\n",
      "Epoch :  180, Cost : 0.316\n",
      "Epoch :  190, Cost : 0.298\n",
      "Epoch :  200, Cost : 0.267\n",
      "Epoch :  210, Cost : 0.312\n",
      "Epoch :  220, Cost : 0.273\n",
      "Epoch :  230, Cost : 0.306\n",
      "Epoch :  240, Cost : 0.302\n",
      "Epoch :  250, Cost : 0.346\n",
      "Epoch :  260, Cost : 0.354\n",
      "Epoch :  270, Cost : 0.368\n",
      "Epoch :  280, Cost : 0.364\n",
      "Epoch :  290, Cost : 0.428\n",
      "Epoch :  300, Cost : 0.416\n",
      "Epoch :  310, Cost : 0.449\n",
      "Epoch :  320, Cost : 0.461\n",
      "Epoch :  330, Cost : 0.504\n",
      "Epoch :  340, Cost : 0.481\n",
      "Epoch :  350, Cost : 0.506\n",
      "Epoch :  360, Cost : 0.577\n"
     ]
    },
    {
     "ename": "KeyboardInterrupt",
     "evalue": "",
     "output_type": "error",
     "traceback": [
      "\u001b[1;31m---------------------------------------------------------------------------\u001b[0m",
      "\u001b[1;31mKeyboardInterrupt\u001b[0m                         Traceback (most recent call last)",
      "\u001b[1;32m<ipython-input-11-6ff9d21f05fa>\u001b[0m in \u001b[0;36m<module>\u001b[1;34m\u001b[0m\n\u001b[0;32m     13\u001b[0m \u001b[1;33m\u001b[0m\u001b[0m\n\u001b[0;32m     14\u001b[0m     \u001b[1;31m# for i, batch in enumerate(tqdm(train_dataloader)):\u001b[0m\u001b[1;33m\u001b[0m\u001b[1;33m\u001b[0m\u001b[1;33m\u001b[0m\u001b[0m\n\u001b[1;32m---> 15\u001b[1;33m     \u001b[1;32mfor\u001b[0m \u001b[0mx\u001b[0m\u001b[1;33m,\u001b[0m \u001b[0my\u001b[0m \u001b[1;32min\u001b[0m \u001b[0mtrain_dataloader\u001b[0m\u001b[1;33m:\u001b[0m\u001b[1;33m\u001b[0m\u001b[1;33m\u001b[0m\u001b[0m\n\u001b[0m\u001b[0;32m     16\u001b[0m         \u001b[1;31m# x = batch[0].to(device)\u001b[0m\u001b[1;33m\u001b[0m\u001b[1;33m\u001b[0m\u001b[1;33m\u001b[0m\u001b[0m\n\u001b[0;32m     17\u001b[0m         \u001b[1;31m# y = batch[1].to(device)\u001b[0m\u001b[1;33m\u001b[0m\u001b[1;33m\u001b[0m\u001b[1;33m\u001b[0m\u001b[0m\n",
      "\u001b[1;32mc:\\Users\\1998b\\anaconda3\\lib\\site-packages\\torch\\utils\\data\\dataloader.py\u001b[0m in \u001b[0;36m__next__\u001b[1;34m(self)\u001b[0m\n\u001b[0;32m    626\u001b[0m                 \u001b[1;31m# TODO(https://github.com/pytorch/pytorch/issues/76750)\u001b[0m\u001b[1;33m\u001b[0m\u001b[1;33m\u001b[0m\u001b[1;33m\u001b[0m\u001b[0m\n\u001b[0;32m    627\u001b[0m                 \u001b[0mself\u001b[0m\u001b[1;33m.\u001b[0m\u001b[0m_reset\u001b[0m\u001b[1;33m(\u001b[0m\u001b[1;33m)\u001b[0m  \u001b[1;31m# type: ignore[call-arg]\u001b[0m\u001b[1;33m\u001b[0m\u001b[1;33m\u001b[0m\u001b[0m\n\u001b[1;32m--> 628\u001b[1;33m             \u001b[0mdata\u001b[0m \u001b[1;33m=\u001b[0m \u001b[0mself\u001b[0m\u001b[1;33m.\u001b[0m\u001b[0m_next_data\u001b[0m\u001b[1;33m(\u001b[0m\u001b[1;33m)\u001b[0m\u001b[1;33m\u001b[0m\u001b[1;33m\u001b[0m\u001b[0m\n\u001b[0m\u001b[0;32m    629\u001b[0m             \u001b[0mself\u001b[0m\u001b[1;33m.\u001b[0m\u001b[0m_num_yielded\u001b[0m \u001b[1;33m+=\u001b[0m \u001b[1;36m1\u001b[0m\u001b[1;33m\u001b[0m\u001b[1;33m\u001b[0m\u001b[0m\n\u001b[0;32m    630\u001b[0m             \u001b[1;32mif\u001b[0m \u001b[0mself\u001b[0m\u001b[1;33m.\u001b[0m\u001b[0m_dataset_kind\u001b[0m \u001b[1;33m==\u001b[0m \u001b[0m_DatasetKind\u001b[0m\u001b[1;33m.\u001b[0m\u001b[0mIterable\u001b[0m \u001b[1;32mand\u001b[0m\u001b[0;31m \u001b[0m\u001b[0;31m\\\u001b[0m\u001b[1;33m\u001b[0m\u001b[1;33m\u001b[0m\u001b[0m\n",
      "\u001b[1;32mc:\\Users\\1998b\\anaconda3\\lib\\site-packages\\torch\\utils\\data\\dataloader.py\u001b[0m in \u001b[0;36m_next_data\u001b[1;34m(self)\u001b[0m\n\u001b[0;32m    669\u001b[0m     \u001b[1;32mdef\u001b[0m \u001b[0m_next_data\u001b[0m\u001b[1;33m(\u001b[0m\u001b[0mself\u001b[0m\u001b[1;33m)\u001b[0m\u001b[1;33m:\u001b[0m\u001b[1;33m\u001b[0m\u001b[1;33m\u001b[0m\u001b[0m\n\u001b[0;32m    670\u001b[0m         \u001b[0mindex\u001b[0m \u001b[1;33m=\u001b[0m \u001b[0mself\u001b[0m\u001b[1;33m.\u001b[0m\u001b[0m_next_index\u001b[0m\u001b[1;33m(\u001b[0m\u001b[1;33m)\u001b[0m  \u001b[1;31m# may raise StopIteration\u001b[0m\u001b[1;33m\u001b[0m\u001b[1;33m\u001b[0m\u001b[0m\n\u001b[1;32m--> 671\u001b[1;33m         \u001b[0mdata\u001b[0m \u001b[1;33m=\u001b[0m \u001b[0mself\u001b[0m\u001b[1;33m.\u001b[0m\u001b[0m_dataset_fetcher\u001b[0m\u001b[1;33m.\u001b[0m\u001b[0mfetch\u001b[0m\u001b[1;33m(\u001b[0m\u001b[0mindex\u001b[0m\u001b[1;33m)\u001b[0m  \u001b[1;31m# may raise StopIteration\u001b[0m\u001b[1;33m\u001b[0m\u001b[1;33m\u001b[0m\u001b[0m\n\u001b[0m\u001b[0;32m    672\u001b[0m         \u001b[1;32mif\u001b[0m \u001b[0mself\u001b[0m\u001b[1;33m.\u001b[0m\u001b[0m_pin_memory\u001b[0m\u001b[1;33m:\u001b[0m\u001b[1;33m\u001b[0m\u001b[1;33m\u001b[0m\u001b[0m\n\u001b[0;32m    673\u001b[0m             \u001b[0mdata\u001b[0m \u001b[1;33m=\u001b[0m \u001b[0m_utils\u001b[0m\u001b[1;33m.\u001b[0m\u001b[0mpin_memory\u001b[0m\u001b[1;33m.\u001b[0m\u001b[0mpin_memory\u001b[0m\u001b[1;33m(\u001b[0m\u001b[0mdata\u001b[0m\u001b[1;33m,\u001b[0m \u001b[0mself\u001b[0m\u001b[1;33m.\u001b[0m\u001b[0m_pin_memory_device\u001b[0m\u001b[1;33m)\u001b[0m\u001b[1;33m\u001b[0m\u001b[1;33m\u001b[0m\u001b[0m\n",
      "\u001b[1;32mc:\\Users\\1998b\\anaconda3\\lib\\site-packages\\torch\\utils\\data\\_utils\\fetch.py\u001b[0m in \u001b[0;36mfetch\u001b[1;34m(self, possibly_batched_index)\u001b[0m\n\u001b[0;32m     59\u001b[0m         \u001b[1;32melse\u001b[0m\u001b[1;33m:\u001b[0m\u001b[1;33m\u001b[0m\u001b[1;33m\u001b[0m\u001b[0m\n\u001b[0;32m     60\u001b[0m             \u001b[0mdata\u001b[0m \u001b[1;33m=\u001b[0m \u001b[0mself\u001b[0m\u001b[1;33m.\u001b[0m\u001b[0mdataset\u001b[0m\u001b[1;33m[\u001b[0m\u001b[0mpossibly_batched_index\u001b[0m\u001b[1;33m]\u001b[0m\u001b[1;33m\u001b[0m\u001b[1;33m\u001b[0m\u001b[0m\n\u001b[1;32m---> 61\u001b[1;33m         \u001b[1;32mreturn\u001b[0m \u001b[0mself\u001b[0m\u001b[1;33m.\u001b[0m\u001b[0mcollate_fn\u001b[0m\u001b[1;33m(\u001b[0m\u001b[0mdata\u001b[0m\u001b[1;33m)\u001b[0m\u001b[1;33m\u001b[0m\u001b[1;33m\u001b[0m\u001b[0m\n\u001b[0m",
      "\u001b[1;32mc:\\Users\\1998b\\anaconda3\\lib\\site-packages\\torch\\utils\\data\\_utils\\collate.py\u001b[0m in \u001b[0;36mdefault_collate\u001b[1;34m(batch)\u001b[0m\n\u001b[0;32m    263\u001b[0m             \u001b[1;33m>>\u001b[0m\u001b[1;33m>\u001b[0m \u001b[0mdefault_collate\u001b[0m\u001b[1;33m(\u001b[0m\u001b[0mbatch\u001b[0m\u001b[1;33m)\u001b[0m  \u001b[1;31m# Handle `CustomType` automatically\u001b[0m\u001b[1;33m\u001b[0m\u001b[1;33m\u001b[0m\u001b[0m\n\u001b[0;32m    264\u001b[0m     \"\"\"\n\u001b[1;32m--> 265\u001b[1;33m     \u001b[1;32mreturn\u001b[0m \u001b[0mcollate\u001b[0m\u001b[1;33m(\u001b[0m\u001b[0mbatch\u001b[0m\u001b[1;33m,\u001b[0m \u001b[0mcollate_fn_map\u001b[0m\u001b[1;33m=\u001b[0m\u001b[0mdefault_collate_fn_map\u001b[0m\u001b[1;33m)\u001b[0m\u001b[1;33m\u001b[0m\u001b[1;33m\u001b[0m\u001b[0m\n\u001b[0m",
      "\u001b[1;32mc:\\Users\\1998b\\anaconda3\\lib\\site-packages\\torch\\utils\\data\\_utils\\collate.py\u001b[0m in \u001b[0;36mcollate\u001b[1;34m(batch, collate_fn_map)\u001b[0m\n\u001b[0;32m    141\u001b[0m \u001b[1;33m\u001b[0m\u001b[0m\n\u001b[0;32m    142\u001b[0m         \u001b[1;32mif\u001b[0m \u001b[0misinstance\u001b[0m\u001b[1;33m(\u001b[0m\u001b[0melem\u001b[0m\u001b[1;33m,\u001b[0m \u001b[0mtuple\u001b[0m\u001b[1;33m)\u001b[0m\u001b[1;33m:\u001b[0m\u001b[1;33m\u001b[0m\u001b[1;33m\u001b[0m\u001b[0m\n\u001b[1;32m--> 143\u001b[1;33m             \u001b[1;32mreturn\u001b[0m \u001b[1;33m[\u001b[0m\u001b[0mcollate\u001b[0m\u001b[1;33m(\u001b[0m\u001b[0msamples\u001b[0m\u001b[1;33m,\u001b[0m \u001b[0mcollate_fn_map\u001b[0m\u001b[1;33m=\u001b[0m\u001b[0mcollate_fn_map\u001b[0m\u001b[1;33m)\u001b[0m \u001b[1;32mfor\u001b[0m \u001b[0msamples\u001b[0m \u001b[1;32min\u001b[0m \u001b[0mtransposed\u001b[0m\u001b[1;33m]\u001b[0m  \u001b[1;31m# Backwards compatibility.\u001b[0m\u001b[1;33m\u001b[0m\u001b[1;33m\u001b[0m\u001b[0m\n\u001b[0m\u001b[0;32m    144\u001b[0m         \u001b[1;32melse\u001b[0m\u001b[1;33m:\u001b[0m\u001b[1;33m\u001b[0m\u001b[1;33m\u001b[0m\u001b[0m\n\u001b[0;32m    145\u001b[0m             \u001b[1;32mtry\u001b[0m\u001b[1;33m:\u001b[0m\u001b[1;33m\u001b[0m\u001b[1;33m\u001b[0m\u001b[0m\n",
      "\u001b[1;32mc:\\Users\\1998b\\anaconda3\\lib\\site-packages\\torch\\utils\\data\\_utils\\collate.py\u001b[0m in \u001b[0;36m<listcomp>\u001b[1;34m(.0)\u001b[0m\n\u001b[0;32m    141\u001b[0m \u001b[1;33m\u001b[0m\u001b[0m\n\u001b[0;32m    142\u001b[0m         \u001b[1;32mif\u001b[0m \u001b[0misinstance\u001b[0m\u001b[1;33m(\u001b[0m\u001b[0melem\u001b[0m\u001b[1;33m,\u001b[0m \u001b[0mtuple\u001b[0m\u001b[1;33m)\u001b[0m\u001b[1;33m:\u001b[0m\u001b[1;33m\u001b[0m\u001b[1;33m\u001b[0m\u001b[0m\n\u001b[1;32m--> 143\u001b[1;33m             \u001b[1;32mreturn\u001b[0m \u001b[1;33m[\u001b[0m\u001b[0mcollate\u001b[0m\u001b[1;33m(\u001b[0m\u001b[0msamples\u001b[0m\u001b[1;33m,\u001b[0m \u001b[0mcollate_fn_map\u001b[0m\u001b[1;33m=\u001b[0m\u001b[0mcollate_fn_map\u001b[0m\u001b[1;33m)\u001b[0m \u001b[1;32mfor\u001b[0m \u001b[0msamples\u001b[0m \u001b[1;32min\u001b[0m \u001b[0mtransposed\u001b[0m\u001b[1;33m]\u001b[0m  \u001b[1;31m# Backwards compatibility.\u001b[0m\u001b[1;33m\u001b[0m\u001b[1;33m\u001b[0m\u001b[0m\n\u001b[0m\u001b[0;32m    144\u001b[0m         \u001b[1;32melse\u001b[0m\u001b[1;33m:\u001b[0m\u001b[1;33m\u001b[0m\u001b[1;33m\u001b[0m\u001b[0m\n\u001b[0;32m    145\u001b[0m             \u001b[1;32mtry\u001b[0m\u001b[1;33m:\u001b[0m\u001b[1;33m\u001b[0m\u001b[1;33m\u001b[0m\u001b[0m\n",
      "\u001b[1;32mc:\\Users\\1998b\\anaconda3\\lib\\site-packages\\torch\\utils\\data\\_utils\\collate.py\u001b[0m in \u001b[0;36mcollate\u001b[1;34m(batch, collate_fn_map)\u001b[0m\n\u001b[0;32m    118\u001b[0m     \u001b[1;32mif\u001b[0m \u001b[0mcollate_fn_map\u001b[0m \u001b[1;32mis\u001b[0m \u001b[1;32mnot\u001b[0m \u001b[1;32mNone\u001b[0m\u001b[1;33m:\u001b[0m\u001b[1;33m\u001b[0m\u001b[1;33m\u001b[0m\u001b[0m\n\u001b[0;32m    119\u001b[0m         \u001b[1;32mif\u001b[0m \u001b[0melem_type\u001b[0m \u001b[1;32min\u001b[0m \u001b[0mcollate_fn_map\u001b[0m\u001b[1;33m:\u001b[0m\u001b[1;33m\u001b[0m\u001b[1;33m\u001b[0m\u001b[0m\n\u001b[1;32m--> 120\u001b[1;33m             \u001b[1;32mreturn\u001b[0m \u001b[0mcollate_fn_map\u001b[0m\u001b[1;33m[\u001b[0m\u001b[0melem_type\u001b[0m\u001b[1;33m]\u001b[0m\u001b[1;33m(\u001b[0m\u001b[0mbatch\u001b[0m\u001b[1;33m,\u001b[0m \u001b[0mcollate_fn_map\u001b[0m\u001b[1;33m=\u001b[0m\u001b[0mcollate_fn_map\u001b[0m\u001b[1;33m)\u001b[0m\u001b[1;33m\u001b[0m\u001b[1;33m\u001b[0m\u001b[0m\n\u001b[0m\u001b[0;32m    121\u001b[0m \u001b[1;33m\u001b[0m\u001b[0m\n\u001b[0;32m    122\u001b[0m         \u001b[1;32mfor\u001b[0m \u001b[0mcollate_type\u001b[0m \u001b[1;32min\u001b[0m \u001b[0mcollate_fn_map\u001b[0m\u001b[1;33m:\u001b[0m\u001b[1;33m\u001b[0m\u001b[1;33m\u001b[0m\u001b[0m\n",
      "\u001b[1;32mc:\\Users\\1998b\\anaconda3\\lib\\site-packages\\torch\\utils\\data\\_utils\\collate.py\u001b[0m in \u001b[0;36mcollate_tensor_fn\u001b[1;34m(batch, collate_fn_map)\u001b[0m\n\u001b[0;32m    161\u001b[0m         \u001b[0mstorage\u001b[0m \u001b[1;33m=\u001b[0m \u001b[0melem\u001b[0m\u001b[1;33m.\u001b[0m\u001b[0mstorage\u001b[0m\u001b[1;33m(\u001b[0m\u001b[1;33m)\u001b[0m\u001b[1;33m.\u001b[0m\u001b[0m_new_shared\u001b[0m\u001b[1;33m(\u001b[0m\u001b[0mnumel\u001b[0m\u001b[1;33m,\u001b[0m \u001b[0mdevice\u001b[0m\u001b[1;33m=\u001b[0m\u001b[0melem\u001b[0m\u001b[1;33m.\u001b[0m\u001b[0mdevice\u001b[0m\u001b[1;33m)\u001b[0m\u001b[1;33m\u001b[0m\u001b[1;33m\u001b[0m\u001b[0m\n\u001b[0;32m    162\u001b[0m         \u001b[0mout\u001b[0m \u001b[1;33m=\u001b[0m \u001b[0melem\u001b[0m\u001b[1;33m.\u001b[0m\u001b[0mnew\u001b[0m\u001b[1;33m(\u001b[0m\u001b[0mstorage\u001b[0m\u001b[1;33m)\u001b[0m\u001b[1;33m.\u001b[0m\u001b[0mresize_\u001b[0m\u001b[1;33m(\u001b[0m\u001b[0mlen\u001b[0m\u001b[1;33m(\u001b[0m\u001b[0mbatch\u001b[0m\u001b[1;33m)\u001b[0m\u001b[1;33m,\u001b[0m \u001b[1;33m*\u001b[0m\u001b[0mlist\u001b[0m\u001b[1;33m(\u001b[0m\u001b[0melem\u001b[0m\u001b[1;33m.\u001b[0m\u001b[0msize\u001b[0m\u001b[1;33m(\u001b[0m\u001b[1;33m)\u001b[0m\u001b[1;33m)\u001b[0m\u001b[1;33m)\u001b[0m\u001b[1;33m\u001b[0m\u001b[1;33m\u001b[0m\u001b[0m\n\u001b[1;32m--> 163\u001b[1;33m     \u001b[1;32mreturn\u001b[0m \u001b[0mtorch\u001b[0m\u001b[1;33m.\u001b[0m\u001b[0mstack\u001b[0m\u001b[1;33m(\u001b[0m\u001b[0mbatch\u001b[0m\u001b[1;33m,\u001b[0m \u001b[1;36m0\u001b[0m\u001b[1;33m,\u001b[0m \u001b[0mout\u001b[0m\u001b[1;33m=\u001b[0m\u001b[0mout\u001b[0m\u001b[1;33m)\u001b[0m\u001b[1;33m\u001b[0m\u001b[1;33m\u001b[0m\u001b[0m\n\u001b[0m\u001b[0;32m    164\u001b[0m \u001b[1;33m\u001b[0m\u001b[0m\n\u001b[0;32m    165\u001b[0m \u001b[1;33m\u001b[0m\u001b[0m\n",
      "\u001b[1;31mKeyboardInterrupt\u001b[0m: "
     ]
    }
   ],
   "source": [
    "losses = []\n",
    "\n",
    "indices = torch.randperm(len(train_dataset))[:131072]\n",
    "sampler = SubsetRandomSampler(indices)\n",
    "train_dataloader = DataLoader(train_dataset, batch_size=32, shuffle=False, drop_last=True, sampler=sampler)\n",
    "\n",
    "for epoch in range(10000):\n",
    "    cost = 0.0\n",
    "\n",
    "    # indices = torch.randperm(len(train_dataset))[:131072]\n",
    "    # sampler = SubsetRandomSampler(indices)\n",
    "    # train_dataloader = DataLoader(train_dataset, batch_size=32, shuffle=False, drop_last=True, sampler=sampler)\n",
    "\n",
    "    # for i, batch in enumerate(tqdm(train_dataloader)):\n",
    "    for x, y in train_dataloader:\n",
    "        # x = batch[0].to(device)\n",
    "        # y = batch[1].to(device)\n",
    "        x = x.to(device)\n",
    "        y = y.to(device)\n",
    "        optimizer.zero_grad()\n",
    "        \n",
    "        output = model(x)\n",
    "\n",
    "        loss = criterion(output, y)\n",
    "\n",
    "        loss.backward()\n",
    "        optimizer.step()\n",
    "\n",
    "        cost += loss\n",
    "\n",
    "        # print(f\"Epoch : {epoch+1:4d}, Loss : {loss:.3f}\")\n",
    "\n",
    "    cost = cost / len(train_dataloader)\n",
    "    losses.append(cost)\n",
    "\n",
    "    if (epoch + 1) % 10 == 0:\n",
    "        print(f\"Epoch : {epoch+1:4d}, Cost : {cost:.3f}\")"
   ]
  },
  {
   "cell_type": "code",
   "execution_count": 12,
   "metadata": {},
   "outputs": [
    {
     "data": {
      "image/png": "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",
      "text/plain": [
       "<Figure size 432x288 with 1 Axes>"
      ]
     },
     "metadata": {
      "needs_background": "light"
     },
     "output_type": "display_data"
    },
    {
     "name": "stderr",
     "output_type": "stream",
     "text": [
      "100%|██████████| 100000/100000 [01:25<00:00, 1164.91it/s]"
     ]
    },
    {
     "name": "stdout",
     "output_type": "stream",
     "text": [
      "--------------\n",
      "Accuracy:  5.48\n"
     ]
    },
    {
     "name": "stderr",
     "output_type": "stream",
     "text": [
      "\n"
     ]
    }
   ],
   "source": [
    "losses_int = [ts.item() for ts in losses]\n",
    "plt.plot(losses_int, 'r')\n",
    "plt.xlabel('epoch')\n",
    "plt.ylabel('loss')\n",
    "plt.title('Xeon Gold 6136')\n",
    "plt.show()\n",
    "\n",
    "indices = torch.randperm(len(test_dataset))[:100000]\n",
    "sampler = SubsetRandomSampler(indices)\n",
    "test_dataloader = DataLoader(test_dataset, batch_size=1, shuffle=False, drop_last=True, sampler=sampler)\n",
    "\n",
    "# GET OUTPUT\n",
    "with torch.no_grad():\n",
    "    model.eval()\n",
    "    \n",
    "    total = 0\n",
    "    correct = 0\n",
    "\n",
    "    for i, batch in enumerate(tqdm(test_dataloader)):\n",
    "        x = batch[0].to(device)\n",
    "        y = batch[1].to(device)\n",
    "        # x = x.to(device)\n",
    "        # y = y.to(device)\n",
    "        output = model(x)\n",
    "        y_pred = torch.argmax(output, dim=1).to(device)\n",
    "        total += 1\n",
    "        # print(x, y, y_pred)\n",
    "        if (y == y_pred): \n",
    "            correct += 1\n",
    "\n",
    "print('--------------')\n",
    "print('Accuracy: ', correct / total * 100)"
   ]
  }
 ],
 "metadata": {
  "kernelspec": {
   "display_name": "Python 3.9.12 ('base')",
   "language": "python",
   "name": "python3"
  },
  "language_info": {
   "codemirror_mode": {
    "name": "ipython",
    "version": 3
   },
   "file_extension": ".py",
   "mimetype": "text/x-python",
   "name": "python",
   "nbconvert_exporter": "python",
   "pygments_lexer": "ipython3",
   "version": "3.9.12"
  },
  "orig_nbformat": 4,
  "vscode": {
   "interpreter": {
    "hash": "a077222d77dfe082b8f1dd562ad70e458ac2ab76993a0b248ab0476e32e9e8dd"
   }
  }
 },
 "nbformat": 4,
 "nbformat_minor": 2
}
>>>>>>> 405f59abaec536951df555414f648fd3b36d9c94
